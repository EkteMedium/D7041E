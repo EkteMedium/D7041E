{
 "cells": [
  {
   "cell_type": "markdown",
   "metadata": {},
   "source": [
    "# Mini-Project\n",
    "This is the main mini-project notebook handeling pre-processing, model definition, training, and evalutaion. "
   ]
  },
  {
   "cell_type": "markdown",
   "metadata": {},
   "source": [
    "### Imports\n",
    "The first cell block handels some necessary imports."
   ]
  },
  {
   "cell_type": "code",
   "execution_count": 1,
   "metadata": {},
   "outputs": [],
   "source": [
    "# Start Linting\n",
    "%load_ext pycodestyle_magic\n",
    "%pycodestyle_on"
   ]
  },
  {
   "cell_type": "code",
   "execution_count": 2,
   "metadata": {},
   "outputs": [],
   "source": [
    "# Import Generic dataset proceessing class.\n",
    "from generic_dataset import GenericDataset"
   ]
  },
  {
   "cell_type": "code",
   "execution_count": null,
   "metadata": {},
   "outputs": [
    {
     "name": "stdout",
     "output_type": "stream",
     "text": [
      "None\n",
      "--- Pittsburgh Bridges Dataset Info ---\n",
      "uci_id: 18\n",
      "name: Pittsburgh Bridges\n",
      "repository_url: https://archive.ics.uci.edu/dataset/18/pittsburgh+bridges\n",
      "data_url: https://archive.ics.uci.edu/static/public/18/data.csv\n",
      "abstract: Bridges database that has original and numeric-discretized datasets\n",
      "area: Other\n",
      "tasks: ['Classification']\n",
      "characteristics: ['Multivariate']\n",
      "num_instances: 108\n",
      "num_features: 12\n",
      "feature_types: ['Categorical', 'Integer']\n",
      "demographics: []\n",
      "target_col: None\n",
      "index_col: ['IDENTIF']\n",
      "has_missing_values: yes\n",
      "missing_values_symbol: NaN\n",
      "year_of_dataset_creation: 1989\n",
      "last_updated: Thu Mar 21 2024\n",
      "dataset_doi: 10.24432/C5RP5H\n",
      "creators: ['Yoram Reich', 'Steven Fenves']\n",
      "---------------------------------------\n"
     ]
    }
   ],
   "source": [
    "ds = GenericDataset(53, train_split=0.5, val_split=0.3, show_info=True)"
   ]
  },
  {
   "cell_type": "code",
   "execution_count": 4,
   "metadata": {},
   "outputs": [
    {
     "name": "stdout",
     "output_type": "stream",
     "text": [
      "--- Pittsburgh Bridges Dataset Info ---\n",
      "uci_id: 18\n",
      "name: Pittsburgh Bridges\n",
      "repository_url: https://archive.ics.uci.edu/dataset/18/pittsburgh+bridges\n",
      "data_url: https://archive.ics.uci.edu/static/public/18/data.csv\n",
      "abstract: Bridges database that has original and numeric-discretized datasets\n",
      "area: Other\n",
      "tasks: ['Classification']\n",
      "characteristics: ['Multivariate']\n",
      "num_instances: 108\n",
      "num_features: 12\n",
      "feature_types: ['Categorical', 'Integer']\n",
      "demographics: []\n",
      "target_col: None\n",
      "index_col: ['IDENTIF']\n",
      "has_missing_values: yes\n",
      "missing_values_symbol: NaN\n",
      "year_of_dataset_creation: 1989\n",
      "last_updated: Thu Mar 21 2024\n",
      "dataset_doi: 10.24432/C5RP5H\n",
      "creators: ['Yoram Reich', 'Steven Fenves']\n",
      "---------------------------------------\n"
     ]
    }
   ],
   "source": [
    "print(ds)"
   ]
  },
  {
   "cell_type": "code",
   "execution_count": 5,
   "metadata": {},
   "outputs": [
    {
     "name": "stderr",
     "output_type": "stream",
     "text": [
      "2:1: E265 block comment should start with '# '\n"
     ]
    },
    {
     "name": "stdout",
     "output_type": "stream",
     "text": [
      "    RIVER  LOCATION ERECTED   PURPOSE  LENGTH  LANES CLEAR-G   T-OR-D  \\\n",
      "0       M       3.0  CRAFTS   HIGHWAY     NaN    2.0       N  THROUGH   \n",
      "1       A      25.0  CRAFTS   HIGHWAY  MEDIUM    2.0       N  THROUGH   \n",
      "2       A      39.0  CRAFTS  AQUEDUCT     NaN    1.0       N  THROUGH   \n",
      "3       A      29.0  CRAFTS   HIGHWAY  MEDIUM    2.0       N  THROUGH   \n",
      "4       M      23.0  CRAFTS   HIGHWAY     NaN    2.0       N  THROUGH   \n",
      "..    ...       ...     ...       ...     ...    ...     ...      ...   \n",
      "103     A      24.0  MODERN   HIGHWAY   SHORT    6.0       G  THROUGH   \n",
      "104     O      44.0  MODERN   HIGHWAY    LONG    6.0       G  THROUGH   \n",
      "105     M       7.0  MODERN   HIGHWAY   SHORT    6.0       G  THROUGH   \n",
      "106     O      43.0  MODERN   HIGHWAY     NaN    NaN       G      NaN   \n",
      "107     A      28.0  MODERN   HIGHWAY     NaN    NaN       G      NaN   \n",
      "\n",
      "    MATERIAL    SPAN REL-L  TYPE  \n",
      "0       WOOD   SHORT     S  WOOD  \n",
      "1       WOOD   SHORT     S  WOOD  \n",
      "2       WOOD     NaN     S  WOOD  \n",
      "3       WOOD   SHORT     S  WOOD  \n",
      "4       WOOD     NaN     S  WOOD  \n",
      "..       ...     ...   ...   ...  \n",
      "103    STEEL  MEDIUM     F  ARCH  \n",
      "104    STEEL    LONG     F  ARCH  \n",
      "105    STEEL    LONG     F  ARCH  \n",
      "106      NaN     NaN     F   NaN  \n",
      "107      NaN     NaN     F   NaN  \n",
      "\n",
      "[108 rows x 12 columns]\n",
      "RIVER        object\n",
      "LOCATION    float64\n",
      "ERECTED      object\n",
      "PURPOSE      object\n",
      "LENGTH       object\n",
      "LANES       float64\n",
      "CLEAR-G      object\n",
      "T-OR-D       object\n",
      "MATERIAL     object\n",
      "SPAN         object\n",
      "REL-L        object\n",
      "TYPE         object\n",
      "dtype: object\n"
     ]
    }
   ],
   "source": [
    "a = ds.get_features()\n",
    "#print(a)"
   ]
  },
  {
   "cell_type": "code",
   "execution_count": null,
   "metadata": {},
   "outputs": [],
   "source": []
  }
 ],
 "metadata": {
  "kernelspec": {
   "display_name": "env",
   "language": "python",
   "name": "python3"
  },
  "language_info": {
   "codemirror_mode": {
    "name": "ipython",
    "version": 3
   },
   "file_extension": ".py",
   "mimetype": "text/x-python",
   "name": "python",
   "nbconvert_exporter": "python",
   "pygments_lexer": "ipython3",
   "version": "3.13.0"
  }
 },
 "nbformat": 4,
 "nbformat_minor": 2
}
