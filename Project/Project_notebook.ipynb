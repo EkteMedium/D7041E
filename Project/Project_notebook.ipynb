{
 "cells": [
  {
   "cell_type": "markdown",
   "metadata": {},
   "source": [
    "# Mini-Project\n",
    "This is the main mini-project notebook handeling pre-processing, model definition, training, and evalutaion. "
   ]
  },
  {
   "cell_type": "markdown",
   "metadata": {},
   "source": [
    "### Imports\n",
    "The first cell block handels some necessary imports."
   ]
  },
  {
   "cell_type": "code",
   "execution_count": 1,
   "metadata": {},
   "outputs": [],
   "source": [
    "# Start Linting\n",
    "%load_ext pycodestyle_magic\n",
    "%pycodestyle_on"
   ]
  },
  {
   "cell_type": "code",
   "execution_count": 2,
   "metadata": {},
   "outputs": [],
   "source": [
    "# Import Generic dataset proceessing class.\n",
    "from generic_dataset import GenericDataset"
   ]
  },
  {
   "cell_type": "code",
   "execution_count": null,
   "metadata": {},
   "outputs": [],
   "source": [
    "ds = GenericDataset(53, splits=(0.5, 0.3, 0.2), show_info=False)"
   ]
  },
  {
   "cell_type": "code",
   "execution_count": 4,
   "metadata": {},
   "outputs": [
    {
     "name": "stdout",
     "output_type": "stream",
     "text": [
      "--- Iris Dataset Info ---\n",
      "uci_id: 53\n",
      "name: Iris\n",
      "repository_url: https://archive.ics.uci.edu/dataset/53/iris\n",
      "data_url: https://archive.ics.uci.edu/static/public/53/data.csv\n",
      "abstract: A small classic dataset from Fisher, 1936. One of the earliest known datasets used for evaluating classification methods.\n",
      "\n",
      "area: Biology\n",
      "tasks: ['Classification']\n",
      "characteristics: ['Tabular']\n",
      "num_instances: 150\n",
      "num_features: 4\n",
      "feature_types: ['Real']\n",
      "demographics: []\n",
      "target_col: ['class']\n",
      "index_col: None\n",
      "has_missing_values: no\n",
      "missing_values_symbol: None\n",
      "year_of_dataset_creation: 1936\n",
      "last_updated: Tue Sep 12 2023\n",
      "dataset_doi: 10.24432/C56C76\n",
      "creators: ['R. A. Fisher']\n",
      "-------------------------\n"
     ]
    }
   ],
   "source": [
    "print(ds)"
   ]
  },
  {
   "cell_type": "code",
   "execution_count": 7,
   "metadata": {},
   "outputs": [
    {
     "name": "stdout",
     "output_type": "stream",
     "text": [
      "(array([[5.1, 3.5, 1.4, 0.2],\n",
      "       [5. , 3.6, 1.4, 0.2],\n",
      "       [4.6, 3.4, 1.4, 0.3],\n",
      "       [4.9, 3.1, 1.5, 0.1],\n",
      "       [4.8, 3. , 1.4, 0.1],\n",
      "       [5.8, 4. , 1.2, 0.2],\n",
      "       [5.7, 4.4, 1.5, 0.4],\n",
      "       [5.1, 3.5, 1.4, 0.3],\n",
      "       [4.6, 3.6, 1. , 0.2],\n",
      "       [5. , 3. , 1.6, 0.2],\n",
      "       [5. , 3.4, 1.6, 0.4],\n",
      "       [4.7, 3.2, 1.6, 0.2],\n",
      "       [4.8, 3.1, 1.6, 0.2],\n",
      "       [5.4, 3.4, 1.5, 0.4],\n",
      "       [4.9, 2.4, 3.3, 1. ],\n",
      "       [5.2, 2.7, 3.9, 1.4],\n",
      "       [6.3, 2.5, 4.9, 1.5],\n",
      "       [5.8, 2.7, 3.9, 1.2],\n",
      "       [6. , 3.4, 4.5, 1.6],\n",
      "       [6.3, 2.3, 4.4, 1.3],\n",
      "       [5.8, 2.6, 4. , 1.2],\n",
      "       [7.2, 3.6, 6.1, 2.5],\n",
      "       [6.4, 2.7, 5.3, 1.9],\n",
      "       [5.7, 2.5, 5. , 2. ],\n",
      "       [6.4, 2.8, 5.6, 2.1],\n",
      "       [7.2, 3. , 5.8, 1.6],\n",
      "       [7.9, 3.8, 6.4, 2. ],\n",
      "       [6.4, 3.1, 5.5, 1.8],\n",
      "       [6.7, 3.3, 5.7, 2.5],\n",
      "       [6.5, 3. , 5.2, 2. ]]), array([['Iris-setosa'],\n",
      "       ['Iris-setosa'],\n",
      "       ['Iris-setosa'],\n",
      "       ['Iris-setosa'],\n",
      "       ['Iris-setosa'],\n",
      "       ['Iris-setosa'],\n",
      "       ['Iris-setosa'],\n",
      "       ['Iris-setosa'],\n",
      "       ['Iris-setosa'],\n",
      "       ['Iris-setosa'],\n",
      "       ['Iris-setosa'],\n",
      "       ['Iris-setosa'],\n",
      "       ['Iris-setosa'],\n",
      "       ['Iris-setosa'],\n",
      "       ['Iris-versicolor'],\n",
      "       ['Iris-versicolor'],\n",
      "       ['Iris-versicolor'],\n",
      "       ['Iris-versicolor'],\n",
      "       ['Iris-versicolor'],\n",
      "       ['Iris-versicolor'],\n",
      "       ['Iris-versicolor'],\n",
      "       ['Iris-virginica'],\n",
      "       ['Iris-virginica'],\n",
      "       ['Iris-virginica'],\n",
      "       ['Iris-virginica'],\n",
      "       ['Iris-virginica'],\n",
      "       ['Iris-virginica'],\n",
      "       ['Iris-virginica'],\n",
      "       ['Iris-virginica'],\n",
      "       ['Iris-virginica']], dtype=object))\n"
     ]
    }
   ],
   "source": [
    "a = ds.get_test()\n",
    "print(a)"
   ]
  },
  {
   "cell_type": "code",
   "execution_count": null,
   "metadata": {},
   "outputs": [],
   "source": []
  }
 ],
 "metadata": {
  "kernelspec": {
   "display_name": "env",
   "language": "python",
   "name": "python3"
  },
  "language_info": {
   "codemirror_mode": {
    "name": "ipython",
    "version": 3
   },
   "file_extension": ".py",
   "mimetype": "text/x-python",
   "name": "python",
   "nbconvert_exporter": "python",
   "pygments_lexer": "ipython3",
   "version": "3.13.0"
  }
 },
 "nbformat": 4,
 "nbformat_minor": 2
}
